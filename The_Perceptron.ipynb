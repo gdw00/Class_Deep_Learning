{
  "cells": [
    {
      "cell_type": "markdown",
      "metadata": {
        "id": "vYiZq0X2oB5t"
      },
      "source": [
        "# **CSCE 5218 / CSCE 4930 Deep Learning**\n",
        "\n",
        "# **The Perceptron** (20 pt)\n"
      ]
    },
    {
      "cell_type": "code",
      "execution_count": 9,
      "metadata": {
        "colab": {
          "base_uri": "https://localhost:8080/"
        },
        "id": "vGVmKzgG2Ium",
        "outputId": "4cc2ca21-861a-4fba-a38c-83e3ec04bec8"
      },
      "outputs": [
        {
          "name": "stderr",
          "output_type": "stream",
          "text": [
            "  % Total    % Received % Xferd  Average Speed   Time    Time     Time  Current\n",
            "                                 Dload  Upload   Total   Spent    Left  Speed\n",
            "\n",
            "  0     0    0     0    0     0      0      0 --:--:-- --:--:-- --:--:--     0\n",
            "100   136  100   136    0     0   2479      0 --:--:-- --:--:-- --:--:--  2666\n",
            "  % Total    % Received % Xferd  Average Speed   Time    Time     Time  Current\n",
            "                                 Dload  Upload   Total   Spent    Left  Speed\n",
            "\n",
            "  0     0    0     0    0     0      0      0 --:--:-- --:--:-- --:--:--     0\n",
            "100 11645  100 11645    0     0   183k      0 --:--:-- --:--:-- --:--:--  206k\n"
          ]
        }
      ],
      "source": [
        "# Get the datasets\n",
        "!curl -o test.dat https://raw.githubusercontent.com/huangyanann/CSCE5218/main/test_small.txt\n",
        "!curl -o train.dat https://raw.githubusercontent.com/huangyanann/CSCE5218/main/train.txt\n",
        "\n"
      ]
    },
    {
      "cell_type": "code",
      "execution_count": 13,
      "metadata": {
        "colab": {
          "base_uri": "https://localhost:8080/"
        },
        "id": "A69DxPSc8vNs",
        "outputId": "5440e602-8ecd-44cf-d48d-2e8b00cdcc52"
      },
      "outputs": [
        {
          "name": "stdout",
          "output_type": "stream",
          "text": [
            "A1\tA2\tA3\tA4\tA5\tA6\tA7\tA8\tA9\tA10\tA11\tA12\tA13\n",
            "1\t1\t0\t0\t0\t0\t0\t0\t1\t1\t0\t0\t1\t0\n",
            "0\t0\t1\t1\t0\t1\t1\t0\t0\t0\t0\t0\t1\t0\n",
            "0\t1\t0\t1\t1\t0\t1\t0\t1\t1\t1\t0\t1\t1\n",
            "0\t0\t1\t0\t0\t1\t0\t1\t0\t1\t1\t1\t1\t0\n",
            "0\t1\t0\t0\t0\t0\t0\t1\t1\t1\t1\t1\t1\t0\n",
            "0\t1\t1\t1\t0\t0\t0\t1\t0\t1\t1\t0\t1\t1\n",
            "0\t1\t1\t0\t0\t0\t1\t0\t0\t0\t0\t0\t1\t0\n",
            "0\t0\t0\t1\t1\t0\t1\t1\t1\t0\t0\t0\t1\t0\n",
            "0\t0\t0\t0\t0\t0\t1\t0\t1\t0\t1\t0\t1\t0\n",
            "X1\tX2\tX3\n",
            "1\t1\t1\t1\n",
            "0\t0\t1\t1\n",
            "0\t1\t1\t0\n",
            "0\t1\t1\t0\n",
            "0\t1\t1\t0\n",
            "0\t1\t1\t0\n",
            "0\t1\t1\t0\n",
            "0\t1\t1\t0\n",
            "1\t1\t1\t1\n"
          ]
        }
      ],
      "source": [
        "# Take a peek at the datasets\n",
        "# !head train.dat\n",
        "# !head test.dat\n",
        "with open(\"train.dat\", \"r\") as f:\n",
        "    for _ in range(10):\n",
        "        print(f.readline().strip())\n",
        "with open(\"test.dat\", \"r\") as f:\n",
        "    for _ in range(10):\n",
        "        print(f.readline().strip())\n"
      ]
    },
    {
      "cell_type": "markdown",
      "metadata": {
        "id": "rFXHLhnhwiBR"
      },
      "source": [
        "### Build the Perceptron Model\n",
        "\n",
        "You will need to complete some of the function definitions below.  DO NOT import any other libraries to complete this. "
      ]
    },
    {
      "cell_type": "code",
      "execution_count": 18,
      "metadata": {
        "id": "cXAsP_lw3QwJ"
      },
      "outputs": [],
      "source": [
        "import math\n",
        "import itertools\n",
        "import re\n",
        "\n",
        "\n",
        "# Corpus reader, all columns but the last one are coordinates;\n",
        "#   the last column is the label\n",
        "def read_data(file_name):\n",
        "    f = open(file_name, 'r')\n",
        "\n",
        "    data = []\n",
        "    # Discard header line\n",
        "    f.readline()\n",
        "    for instance in f.readlines():\n",
        "        if not re.search('\\t', instance): continue\n",
        "        instance = list(map(int, instance.strip().split('\\t')))\n",
        "        # Add a dummy input so that w0 becomes the bias\n",
        "        instance = [-1] + instance\n",
        "        data += [instance]\n",
        "    return data\n",
        "\n",
        "\n",
        "def dot_product(array1, array2):\n",
        "    #TODO: Return dot product of array 1 and array 2\n",
        "    \n",
        "    result1 = sum(a*b for a, b in zip(array1, array2))\n",
        "    return result1 \n",
        "\n",
        "\n",
        "def sigmoid(x):\n",
        "    #TODO: Return outpout of sigmoid function on x\n",
        "    result2 = 1 / (1 + math.exp(-x))\n",
        "    return result2\n",
        "\n",
        "# The output of the model, which for the perceptron is \n",
        "# the sigmoid function applied to the dot product of \n",
        "# the instance and the weights\n",
        "def output(weight, instance):\n",
        "    #TODO: return the output of the model \n",
        "    result3 = (sigmoid(dot_product(weight, instance)))\n",
        "    return result3\n",
        "\n",
        "# Predict the label of an instance; this is the definition of the perceptron\n",
        "# you should output 1 if the output is >= 0.5 else output 0\n",
        "def predict(weights, instance):\n",
        "    #TODO: return the prediction of the model\n",
        "    result4 = sigmoid(dot_product(weights, instance))\n",
        "    return 1 if result4 >= 0.5 else 0\n",
        "\n",
        "\n",
        "# Accuracy = percent of correct predictions\n",
        "def get_accuracy(weights, instances):\n",
        "    # You do not to write code like this, but get used to it\n",
        "    correct = sum([1 if predict(weights, instance) == instance[-1] else 0\n",
        "                   for instance in instances])\n",
        "    return correct * 100 / len(instances)\n",
        "\n",
        "\n",
        "# Train a perceptron with instances and hyperparameters:\n",
        "#       lr (learning rate) \n",
        "#       epochs\n",
        "# The implementation comes from the definition of the perceptron\n",
        "#\n",
        "# Training consists on fitting the parameters which are the weights\n",
        "# that's the only thing training is responsible to fit\n",
        "# (recall that w0 is the bias, and w1..wn are the weights for each coordinate)\n",
        "#\n",
        "# Hyperparameters (lr and epochs) are given to the training algorithm\n",
        "# We are updating weights in the opposite direction of the gradient of the error,\n",
        "# so with a \"decent\" lr we are guaranteed to reduce the error after each iteration.\n",
        "def train_perceptron(instances, lr, epochs):\n",
        "\n",
        "    #TODO: name this step\n",
        "    #Initialize Weights\n",
        "    weights = [0] * (len(instances[0])-1)\n",
        "\n",
        "    for _ in range(epochs):\n",
        "        for instance in instances:\n",
        "            #TODO: name these steps\n",
        "            #Forward Propagation and Compute Error\n",
        "            in_value = dot_product(weights, instance)\n",
        "            output = sigmoid(in_value)\n",
        "            error = instance[-1] - output\n",
        "            #TODO: name these steps\n",
        "            #Gradient Descent for Weight Updates\n",
        "            for i in range(0, len(weights)):\n",
        "                weights[i] += lr * error * output * (1-output) * instance[i]\n",
        "\n",
        "    return weights"
      ]
    },
    {
      "cell_type": "markdown",
      "metadata": {
        "id": "adBZuMlAwiBT"
      },
      "source": [
        "## Run it"
      ]
    },
    {
      "cell_type": "code",
      "execution_count": 19,
      "metadata": {
        "id": "50YvUza-BYQF"
      },
      "outputs": [
        {
          "name": "stdout",
          "output_type": "stream",
          "text": [
            "#tr: 400, epochs:   5, learning rate: 0.005; Accuracy (test, 14 instances): 71.4\n"
          ]
        }
      ],
      "source": [
        "instances_tr = read_data(\"train.dat\")\n",
        "instances_te = read_data(\"test.dat\")\n",
        "lr = 0.005\n",
        "epochs = 5\n",
        "weights = train_perceptron(instances_tr, lr, epochs)\n",
        "accuracy = get_accuracy(weights, instances_te)\n",
        "print(f\"#tr: {len(instances_tr):3}, epochs: {epochs:3}, learning rate: {lr:.3f}; \"\n",
        "      f\"Accuracy (test, {len(instances_te)} instances): {accuracy:.1f}\")"
      ]
    },
    {
      "cell_type": "markdown",
      "metadata": {
        "id": "CBXkvaiQMohX"
      },
      "source": [
        "## Questions\n",
        "\n",
        "Answer the following questions. Include your implementation and the output for each question."
      ]
    },
    {
      "cell_type": "markdown",
      "metadata": {
        "id": "YCQ6BEk1CBlr"
      },
      "source": [
        "\n",
        "\n",
        "### Question 1\n",
        "\n",
        "In `train_perceptron(instances, lr, epochs)`, we have the follosing code:\n",
        "```\n",
        "in_value = dot_product(weights, instance)\n",
        "output = sigmoid(in_value)\n",
        "error = instance[-1] - output\n",
        "```\n",
        "\n",
        "Why don't we have the following code snippet instead?\n",
        "```\n",
        "output = predict(weights, instance)\n",
        "error = instance[-1] - output\n",
        "```\n",
        "\n",
        "#### TODO Add your answer here (text only)\n",
        "\n",
        "\n"
      ]
    },
    {
      "cell_type": "markdown",
      "metadata": {},
      "source": [
        "Because predict() returns a binary value, while sigmoid(dot_product(weights, instance)) gives a probability between 0 and 1. During training, we need this probability to calculate the error and update the weights properly using gradient descent. If we used predict(), the error would be discrete, making it impossible to compute useful gradients."
      ]
    },
    {
      "cell_type": "markdown",
      "metadata": {
        "id": "JU3c3m6YL2rK"
      },
      "source": [
        "### Question 2\n",
        "Train the perceptron with the following hyperparameters and calculate the accuracy with the test dataset.\n",
        "\n",
        "```\n",
        "tr_percent = [5, 10, 25, 50, 75, 100] # percent of the training dataset to train with\n",
        "num_epochs = [5, 10, 20, 50, 100]              # number of epochs\n",
        "lr = [0.005, 0.01, 0.05]              # learning rate\n",
        "```\n",
        "\n",
        "TODO: Write your code below and include the output at the end of each training loop (NOT AFTER EACH EPOCH)\n",
        "of your code.The output should look like the following:\n",
        "```\n",
        "# tr:  20, epochs:   5, learning rate: 0.005; Accuracy (test, 100 instances): 68.0\n",
        "# tr:  20, epochs:  10, learning rate: 0.005; Accuracy (test, 100 instances): 68.0\n",
        "# tr:  20, epochs:  20, learning rate: 0.005; Accuracy (test, 100 instances): 68.0\n",
        "[and so on for all the combinations]\n",
        "```\n",
        "You will get different results with different hyperparameters.\n",
        "\n",
        "#### TODO Add your answer here (code and output in the format above) \n"
      ]
    },
    {
      "cell_type": "code",
      "execution_count": 26,
      "metadata": {
        "id": "G-VKJOUu2BTp"
      },
      "outputs": [
        {
          "name": "stdout",
          "output_type": "stream",
          "text": [
            "#tr: 20, epochs:   5, learning rate: 0.005; Accuracy (test, 14 instances): 71.4\n",
            "#tr: 20, epochs:  10, learning rate: 0.005; Accuracy (test, 14 instances): 71.4\n",
            "#tr: 20, epochs:  20, learning rate: 0.005; Accuracy (test, 14 instances): 71.4\n",
            "#tr: 20, epochs:  50, learning rate: 0.005; Accuracy (test, 14 instances): 71.4\n",
            "#tr: 20, epochs: 100, learning rate: 0.005; Accuracy (test, 14 instances): 85.7\n",
            "#tr: 40, epochs:   5, learning rate: 0.005; Accuracy (test, 14 instances): 71.4\n",
            "#tr: 40, epochs:  10, learning rate: 0.005; Accuracy (test, 14 instances): 71.4\n",
            "#tr: 40, epochs:  20, learning rate: 0.005; Accuracy (test, 14 instances): 71.4\n",
            "#tr: 40, epochs:  50, learning rate: 0.005; Accuracy (test, 14 instances): 71.4\n",
            "#tr: 40, epochs: 100, learning rate: 0.005; Accuracy (test, 14 instances): 71.4\n",
            "#tr: 100, epochs:   5, learning rate: 0.005; Accuracy (test, 14 instances): 71.4\n",
            "#tr: 100, epochs:  10, learning rate: 0.005; Accuracy (test, 14 instances): 71.4\n",
            "#tr: 100, epochs:  20, learning rate: 0.005; Accuracy (test, 14 instances): 71.4\n",
            "#tr: 100, epochs:  50, learning rate: 0.005; Accuracy (test, 14 instances): 71.4\n",
            "#tr: 100, epochs: 100, learning rate: 0.005; Accuracy (test, 14 instances): 71.4\n",
            "#tr: 200, epochs:   5, learning rate: 0.005; Accuracy (test, 14 instances): 71.4\n",
            "#tr: 200, epochs:  10, learning rate: 0.005; Accuracy (test, 14 instances): 71.4\n",
            "#tr: 200, epochs:  20, learning rate: 0.005; Accuracy (test, 14 instances): 71.4\n",
            "#tr: 200, epochs:  50, learning rate: 0.005; Accuracy (test, 14 instances): 85.7\n",
            "#tr: 200, epochs: 100, learning rate: 0.005; Accuracy (test, 14 instances): 85.7\n",
            "#tr: 300, epochs:   5, learning rate: 0.005; Accuracy (test, 14 instances): 71.4\n",
            "#tr: 300, epochs:  10, learning rate: 0.005; Accuracy (test, 14 instances): 71.4\n",
            "#tr: 300, epochs:  20, learning rate: 0.005; Accuracy (test, 14 instances): 71.4\n",
            "#tr: 300, epochs:  50, learning rate: 0.005; Accuracy (test, 14 instances): 71.4\n",
            "#tr: 300, epochs: 100, learning rate: 0.005; Accuracy (test, 14 instances): 85.7\n",
            "#tr: 400, epochs:   5, learning rate: 0.005; Accuracy (test, 14 instances): 71.4\n",
            "#tr: 400, epochs:  10, learning rate: 0.005; Accuracy (test, 14 instances): 71.4\n",
            "#tr: 400, epochs:  20, learning rate: 0.005; Accuracy (test, 14 instances): 71.4\n",
            "#tr: 400, epochs:  50, learning rate: 0.005; Accuracy (test, 14 instances): 71.4\n",
            "#tr: 400, epochs: 100, learning rate: 0.005; Accuracy (test, 14 instances): 71.4\n",
            "#tr: 20, epochs:   5, learning rate: 0.010; Accuracy (test, 14 instances): 71.4\n",
            "#tr: 20, epochs:  10, learning rate: 0.010; Accuracy (test, 14 instances): 71.4\n",
            "#tr: 20, epochs:  20, learning rate: 0.010; Accuracy (test, 14 instances): 71.4\n",
            "#tr: 20, epochs:  50, learning rate: 0.010; Accuracy (test, 14 instances): 85.7\n",
            "#tr: 20, epochs: 100, learning rate: 0.010; Accuracy (test, 14 instances): 42.9\n",
            "#tr: 40, epochs:   5, learning rate: 0.010; Accuracy (test, 14 instances): 71.4\n",
            "#tr: 40, epochs:  10, learning rate: 0.010; Accuracy (test, 14 instances): 71.4\n",
            "#tr: 40, epochs:  20, learning rate: 0.010; Accuracy (test, 14 instances): 71.4\n",
            "#tr: 40, epochs:  50, learning rate: 0.010; Accuracy (test, 14 instances): 71.4\n",
            "#tr: 40, epochs: 100, learning rate: 0.010; Accuracy (test, 14 instances): 85.7\n",
            "#tr: 100, epochs:   5, learning rate: 0.010; Accuracy (test, 14 instances): 71.4\n",
            "#tr: 100, epochs:  10, learning rate: 0.010; Accuracy (test, 14 instances): 71.4\n",
            "#tr: 100, epochs:  20, learning rate: 0.010; Accuracy (test, 14 instances): 71.4\n",
            "#tr: 100, epochs:  50, learning rate: 0.010; Accuracy (test, 14 instances): 71.4\n",
            "#tr: 100, epochs: 100, learning rate: 0.010; Accuracy (test, 14 instances): 28.6\n",
            "#tr: 200, epochs:   5, learning rate: 0.010; Accuracy (test, 14 instances): 71.4\n",
            "#tr: 200, epochs:  10, learning rate: 0.010; Accuracy (test, 14 instances): 71.4\n",
            "#tr: 200, epochs:  20, learning rate: 0.010; Accuracy (test, 14 instances): 71.4\n",
            "#tr: 200, epochs:  50, learning rate: 0.010; Accuracy (test, 14 instances): 85.7\n",
            "#tr: 200, epochs: 100, learning rate: 0.010; Accuracy (test, 14 instances): 85.7\n",
            "#tr: 300, epochs:   5, learning rate: 0.010; Accuracy (test, 14 instances): 71.4\n",
            "#tr: 300, epochs:  10, learning rate: 0.010; Accuracy (test, 14 instances): 71.4\n",
            "#tr: 300, epochs:  20, learning rate: 0.010; Accuracy (test, 14 instances): 71.4\n",
            "#tr: 300, epochs:  50, learning rate: 0.010; Accuracy (test, 14 instances): 85.7\n",
            "#tr: 300, epochs: 100, learning rate: 0.010; Accuracy (test, 14 instances): 85.7\n",
            "#tr: 400, epochs:   5, learning rate: 0.010; Accuracy (test, 14 instances): 71.4\n",
            "#tr: 400, epochs:  10, learning rate: 0.010; Accuracy (test, 14 instances): 71.4\n",
            "#tr: 400, epochs:  20, learning rate: 0.010; Accuracy (test, 14 instances): 71.4\n",
            "#tr: 400, epochs:  50, learning rate: 0.010; Accuracy (test, 14 instances): 71.4\n",
            "#tr: 400, epochs: 100, learning rate: 0.010; Accuracy (test, 14 instances): 71.4\n",
            "#tr: 20, epochs:   5, learning rate: 0.050; Accuracy (test, 14 instances): 71.4\n",
            "#tr: 20, epochs:  10, learning rate: 0.050; Accuracy (test, 14 instances): 85.7\n",
            "#tr: 20, epochs:  20, learning rate: 0.050; Accuracy (test, 14 instances): 42.9\n",
            "#tr: 20, epochs:  50, learning rate: 0.050; Accuracy (test, 14 instances): 42.9\n",
            "#tr: 20, epochs: 100, learning rate: 0.050; Accuracy (test, 14 instances): 42.9\n",
            "#tr: 40, epochs:   5, learning rate: 0.050; Accuracy (test, 14 instances): 71.4\n",
            "#tr: 40, epochs:  10, learning rate: 0.050; Accuracy (test, 14 instances): 71.4\n",
            "#tr: 40, epochs:  20, learning rate: 0.050; Accuracy (test, 14 instances): 71.4\n",
            "#tr: 40, epochs:  50, learning rate: 0.050; Accuracy (test, 14 instances): 28.6\n",
            "#tr: 40, epochs: 100, learning rate: 0.050; Accuracy (test, 14 instances): 42.9\n",
            "#tr: 100, epochs:   5, learning rate: 0.050; Accuracy (test, 14 instances): 71.4\n",
            "#tr: 100, epochs:  10, learning rate: 0.050; Accuracy (test, 14 instances): 71.4\n",
            "#tr: 100, epochs:  20, learning rate: 0.050; Accuracy (test, 14 instances): 28.6\n",
            "#tr: 100, epochs:  50, learning rate: 0.050; Accuracy (test, 14 instances): 28.6\n",
            "#tr: 100, epochs: 100, learning rate: 0.050; Accuracy (test, 14 instances): 28.6\n",
            "#tr: 200, epochs:   5, learning rate: 0.050; Accuracy (test, 14 instances): 85.7\n",
            "#tr: 200, epochs:  10, learning rate: 0.050; Accuracy (test, 14 instances): 85.7\n",
            "#tr: 200, epochs:  20, learning rate: 0.050; Accuracy (test, 14 instances): 85.7\n",
            "#tr: 200, epochs:  50, learning rate: 0.050; Accuracy (test, 14 instances): 85.7\n",
            "#tr: 200, epochs: 100, learning rate: 0.050; Accuracy (test, 14 instances): 85.7\n",
            "#tr: 300, epochs:   5, learning rate: 0.050; Accuracy (test, 14 instances): 71.4\n",
            "#tr: 300, epochs:  10, learning rate: 0.050; Accuracy (test, 14 instances): 85.7\n",
            "#tr: 300, epochs:  20, learning rate: 0.050; Accuracy (test, 14 instances): 85.7\n",
            "#tr: 300, epochs:  50, learning rate: 0.050; Accuracy (test, 14 instances): 85.7\n",
            "#tr: 300, epochs: 100, learning rate: 0.050; Accuracy (test, 14 instances): 85.7\n",
            "#tr: 400, epochs:   5, learning rate: 0.050; Accuracy (test, 14 instances): 71.4\n",
            "#tr: 400, epochs:  10, learning rate: 0.050; Accuracy (test, 14 instances): 71.4\n",
            "#tr: 400, epochs:  20, learning rate: 0.050; Accuracy (test, 14 instances): 71.4\n",
            "#tr: 400, epochs:  50, learning rate: 0.050; Accuracy (test, 14 instances): 71.4\n",
            "#tr: 400, epochs: 100, learning rate: 0.050; Accuracy (test, 14 instances): 71.4\n"
          ]
        }
      ],
      "source": [
        "instances_tr = read_data(\"train.dat\")\n",
        "instances_te = read_data(\"test.dat\")\n",
        "tr_percent = [5, 10, 25, 50, 75, 100] # percent of the training dataset to train with\n",
        "num_epochs = [5, 10, 20, 50, 100]     # number of epochs\n",
        "lr_array = [0.005, 0.01, 0.05]        # learning rate\n",
        "\n",
        "for lr in lr_array:\n",
        "  for tr_size in tr_percent:\n",
        "    for epochs in num_epochs:\n",
        "      size =  round(len(instances_tr)*tr_size/100)\n",
        "      pre_instances = instances_tr[0:size]\n",
        "      weights = train_perceptron(pre_instances, lr, epochs)\n",
        "      accuracy = get_accuracy(weights, instances_te)\n",
        "      print(f\"#tr: {len(pre_instances):0}, epochs: {epochs:3}, learning rate: {lr:.3f}; \"\n",
        "            f\"Accuracy (test, {len(instances_te)} instances): {accuracy:.1f}\")\n"
      ]
    },
    {
      "cell_type": "markdown",
      "metadata": {
        "id": "OFB9MtwML24O"
      },
      "source": [
        "### Question 3\n",
        "Write a couple paragraphs interpreting the results with all the combinations of hyperparameters. Drawing a plot will probably help you make a point. In particular, answer the following:\n",
        "- A. Do you need to train with all the training dataset to get the highest accuracy with the test dataset?\n",
        "- B. How do you justify that training the second run obtains worse accuracy than the first one (despite the second one uses more training data)?\n",
        "   ```\n",
        "#tr: 100, epochs:  20, learning rate: 0.050; Accuracy (test, 100 instances): 71.0\n",
        "#tr: 200, epochs:  20, learning rate: 0.005; Accuracy (test, 100 instances): 68.0\n",
        "```\n",
        "- C. Can you get higher accuracy with additional hyperparameters (higher than `80.0`)?\n",
        "- D. Is it always worth training for more epochs (while keeping all other hyperparameters fixed)?\n",
        "\n",
        "#### TODO: Add your answer here (code and text)\n",
        "\n"
      ]
    },
    {
      "cell_type": "markdown",
      "metadata": {},
      "source": [
        "A: Not really. More training data can help, but it’s not a guarantee. If the model is already learning well from a smaller dataset, adding more data might not make a big difference—or worse, it could introduce noise that actually hurts performance.\n",
        "B:With a small learning rate (0.005), the model might not be adapting fast enough to make use of the extra data within just 20 epochs.\n",
        "C:Add L1 or L2 regularization can prevent overfitting from memorizing the training data.\n",
        "D:No. If you train too much, the model stops generalizing and just memorizes the training data, which makes test accuracy worse."
      ]
    },
    {
      "cell_type": "markdown",
      "metadata": {
        "id": "38rA_Kp3wiBX"
      },
      "source": []
    },
    {
      "cell_type": "code",
      "execution_count": 30,
      "metadata": {},
      "outputs": [
        {
          "name": "stdout",
          "output_type": "stream",
          "text": [
            "#tr: 20, epochs: 20, learning rate: 0.005; Accuracy (test, 14 instances): 85.7\n",
            "#tr: 40, epochs: 20, learning rate: 0.005; Accuracy (test, 14 instances): 71.4\n",
            "#tr: 100, epochs: 20, learning rate: 0.005; Accuracy (test, 14 instances): 71.4\n",
            "#tr: 200, epochs: 20, learning rate: 0.005; Accuracy (test, 14 instances): 85.7\n",
            "#tr: 300, epochs: 20, learning rate: 0.005; Accuracy (test, 14 instances): 85.7\n",
            "#tr: 400, epochs: 20, learning rate: 0.005; Accuracy (test, 14 instances): 71.4\n",
            "#tr: 20, epochs: 20, learning rate: 0.010; Accuracy (test, 14 instances): 42.9\n",
            "#tr: 40, epochs: 20, learning rate: 0.010; Accuracy (test, 14 instances): 85.7\n",
            "#tr: 100, epochs: 20, learning rate: 0.010; Accuracy (test, 14 instances): 28.6\n",
            "#tr: 200, epochs: 20, learning rate: 0.010; Accuracy (test, 14 instances): 85.7\n",
            "#tr: 300, epochs: 20, learning rate: 0.010; Accuracy (test, 14 instances): 85.7\n",
            "#tr: 400, epochs: 20, learning rate: 0.010; Accuracy (test, 14 instances): 71.4\n",
            "#tr: 20, epochs: 20, learning rate: 0.050; Accuracy (test, 14 instances): 42.9\n",
            "#tr: 40, epochs: 20, learning rate: 0.050; Accuracy (test, 14 instances): 42.9\n",
            "#tr: 100, epochs: 20, learning rate: 0.050; Accuracy (test, 14 instances): 28.6\n",
            "#tr: 200, epochs: 20, learning rate: 0.050; Accuracy (test, 14 instances): 85.7\n",
            "#tr: 300, epochs: 20, learning rate: 0.050; Accuracy (test, 14 instances): 85.7\n",
            "#tr: 400, epochs: 20, learning rate: 0.050; Accuracy (test, 14 instances): 71.4\n"
          ]
        },
        {
          "data": {
            "image/png": "[encoded data removed]",
            "text/plain": [
              "<Figure size 800x600 with 1 Axes>"
            ]
          },
          "metadata": {},
          "output_type": "display_data"
        }
      ],
      "source": [
        "\n",
        "\n",
        "import matplotlib.pyplot as plt\n",
        "\n",
        "instances_tr = read_data(\"train.dat\")\n",
        "instances_te = read_data(\"test.dat\")\n",
        "tr_percent = [5, 10, 25, 50, 75, 100]  \n",
        "num_epochs = [5, 10, 20, 50, 100]      \n",
        "lr_array = [0.005, 0.01, 0.05]         \n",
        "\n",
        "accuracy_results = {lr: [] for lr in lr_array}\n",
        "\n",
        "for lr in lr_array:\n",
        "    for tr_size in tr_percent:\n",
        "        size = round(len(instances_tr) * tr_size / 100)\n",
        "        pre_instances = instances_tr[:size]\n",
        "        weights = train_perceptron(pre_instances, lr, 100) \n",
        "        accuracy = get_accuracy(weights, instances_te)\n",
        "        accuracy_results[lr].append(accuracy)\n",
        "        print(f\"#tr: {len(pre_instances):0}, epochs: 20, learning rate: {lr:.3f}; \"\n",
        "              f\"Accuracy (test, {len(instances_te)} instances): {accuracy:.1f}\")\n",
        "\n",
        "\n",
        "plt.figure(figsize=(8, 6))\n",
        "for lr, acc in accuracy_results.items():\n",
        "    plt.plot(tr_percent, acc, marker='o', label=f\"lr={lr}\")\n",
        "\n",
        "plt.xlabel(\"Training Data Percentage (%)\")\n",
        "plt.ylabel(\"Test Accuracy (%)\")\n",
        "plt.title(\"Effect of Training Data Size on Accuracy\")\n",
        "plt.legend()\n",
        "plt.grid(True)\n",
        "plt.show()\n"
      ]
    }
  ],
  "metadata": {
    "accelerator": "GPU",
    "colab": {
      "collapsed_sections": [],
      "name": "HW2_The_Perceptron.ipynb",
      "provenance": []
    },
    "kernelspec": {
      "display_name": "Python 3",
      "name": "python3"
    },
    "language_info": {
      "codemirror_mode": {
        "name": "ipython",
        "version": 3
      },
      "file_extension": ".py",
      "mimetype": "text/x-python",
      "name": "python",
      "nbconvert_exporter": "python",
      "pygments_lexer": "ipython3",
      "version": "3.11.0"
    }
  },
  "nbformat": 4,
  "nbformat_minor": 2
}
